{
 "cells": [
  {
   "cell_type": "code",
   "execution_count": null,
   "id": "fe1abed3",
   "metadata": {},
   "outputs": [],
   "source": [
    "#1. In the below elements which of them are values or an expression? eg:- values can be integer or string and expressions will be mathematical operators.\n",
    "\n",
    "*     # expression\n",
    "'hello' # string value\n",
    "-87.8   # float value\n",
    "-       # expression \n",
    "/       # expression\n",
    "+       # expression\n",
    "6       # int value\n"
   ]
  },
  {
   "cell_type": "code",
   "execution_count": 11,
   "id": "0b5a190d",
   "metadata": {},
   "outputs": [],
   "source": [
    "# 2. What is the difference between string and variable?\n",
    "\n",
    "#Ans - Variables are symbols that you can use to store data in a program. You can think of them as an empty box \n",
    "#      that you fill with some data or value. Strings are data, so we can use them to fill up a variable.\n",
    "#      A String is a group of characters or a single character usually enclosed in Double quotes \" \" or single quotes ' '"
   ]
  },
  {
   "cell_type": "code",
   "execution_count": null,
   "id": "50bd2a13",
   "metadata": {},
   "outputs": [],
   "source": [
    "#3. Describe three different data types.\n",
    "\n",
    "#Ans - Three fundamental Data types in python are int, float, complex.\n",
    "#      int data type: We can use int data type to represent whole numbers \n",
    "#      float data type: We can use float data type to represent decimal values \n",
    "#      complex data type: Complex number is represented by complex class. It is specified as (real part) + (imaginary part)j."
   ]
  },
  {
   "cell_type": "code",
   "execution_count": 14,
   "id": "efc27632",
   "metadata": {},
   "outputs": [],
   "source": [
    "#4. What is an expression made up of? What do all expressions do?\n",
    "\n",
    "#   An expression is a combination of values, variables, operators, and calls to functions. \n",
    "#   Expressions need to be evaluated. The interpreter evaluates the expression and displays the result."
   ]
  },
  {
   "cell_type": "code",
   "execution_count": null,
   "id": "14eb1f84",
   "metadata": {},
   "outputs": [],
   "source": [
    "#5. This assignment statements, like spam = 10. What is the difference between an expression and a statement?\n",
    "\n",
    "#Ans - An expression evaluates to a single value. \n",
    "#      A statement is a unit of code that has an effect, like creating a variable or displaying a value.\n",
    "#     When we type a statement, the interpreter executes it, which means that it does whatever the statement says. \n"
   ]
  },
  {
   "cell_type": "code",
   "execution_count": 3,
   "id": "15270aa8",
   "metadata": {},
   "outputs": [
    {
     "name": "stdout",
     "output_type": "stream",
     "text": [
      "22\n"
     ]
    }
   ],
   "source": [
    "#6. After running the following code, what does the variable bacon contain?\n",
    "bacon = 22\n",
    "bacon + 1\n",
    "print(bacon)\n",
    "\n",
    "#Ans - Bacon contains 22"
   ]
  },
  {
   "cell_type": "code",
   "execution_count": 6,
   "id": "b470d20a",
   "metadata": {},
   "outputs": [
    {
     "data": {
      "text/plain": [
       "'spamspamspam'"
      ]
     },
     "execution_count": 6,
     "metadata": {},
     "output_type": "execute_result"
    }
   ],
   "source": [
    "#7. What should the values of the following two terms be?\n",
    "'spam' * 3\n",
    "'spam' * 3\n",
    "\n",
    "#Ans - 'spamspamspam'"
   ]
  },
  {
   "cell_type": "code",
   "execution_count": null,
   "id": "c7cfd89b",
   "metadata": {},
   "outputs": [],
   "source": [
    "#8. Why is eggs a valid variable name while 100 is invalid?\n",
    "\n",
    "#Ans-  Variable names cannot begin with a number"
   ]
  },
  {
   "cell_type": "code",
   "execution_count": null,
   "id": "33d8fc5d",
   "metadata": {},
   "outputs": [],
   "source": [
    "#9. What three functions can be used to get the integer, floating-point number, or string version of a value?\n",
    "\n",
    "# Ans - int(), float(), and str() functions "
   ]
  },
  {
   "cell_type": "code",
   "execution_count": 20,
   "id": "b58eb378",
   "metadata": {},
   "outputs": [
    {
     "data": {
      "text/plain": [
       "'I have eaten 99 burritos.'"
      ]
     },
     "execution_count": 20,
     "metadata": {},
     "output_type": "execute_result"
    }
   ],
   "source": [
    "#10. Why does this expression cause an error? How can you fix it?\n",
    "'I have eaten' + 99 +'burritos.'\n",
    "\n",
    "#Ans - 99 is integer, it should be converted to string for concatenation\n",
    "\n",
    "'I have eaten ' +str(99)+ ' burritos.'"
   ]
  }
 ],
 "metadata": {
  "kernelspec": {
   "display_name": "Python 3 (ipykernel)",
   "language": "python",
   "name": "python3"
  },
  "language_info": {
   "codemirror_mode": {
    "name": "ipython",
    "version": 3
   },
   "file_extension": ".py",
   "mimetype": "text/x-python",
   "name": "python",
   "nbconvert_exporter": "python",
   "pygments_lexer": "ipython3",
   "version": "3.9.12"
  }
 },
 "nbformat": 4,
 "nbformat_minor": 5
}
