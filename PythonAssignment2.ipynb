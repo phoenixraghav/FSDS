{
 "cells": [
  {
   "cell_type": "code",
   "execution_count": 13,
   "id": "ca567499",
   "metadata": {},
   "outputs": [],
   "source": [
    "#1. What are the two values of the Boolean data type? How do you write them?\n",
    "# True and False are the two values of the Boolean data type.\n",
    "# True\n",
    "# False"
   ]
  },
  {
   "cell_type": "code",
   "execution_count": null,
   "id": "ad934a85",
   "metadata": {},
   "outputs": [],
   "source": [
    "#2. What are the three different types of Boolean operators?\n",
    "# AND, OR, NOT"
   ]
  },
  {
   "cell_type": "code",
   "execution_count": null,
   "id": "5732b990",
   "metadata": {},
   "outputs": [],
   "source": [
    "#3. Make a list of each Boolean operators truth tables (i.e. every possible combination of Boolean values for the operator and what it evaluate ).\n",
    "# The AND Boolean Operator- The and operator takes two arguments. It evaluates to False unless both inputs are True. You could define the behavior of and with the following truth table:\n",
    "\n",
    "A\t     B\t   A and B\n",
    "True\tTrue\tTrue\n",
    "False\tTrue\tFalse\n",
    "True\tFalse\tFalse\n",
    "False\tFalse\tFalse\n",
    "\n",
    "#The OR Boolean Operator -The value of the or operator is True unless both of its inputs are False. The or operator could also be defined by the following truth table:\n",
    "\n",
    "A\t    B\t   A or B\n",
    "True\tTrue\tTrue\n",
    "False\tTrue\tTrue\n",
    "True\tFalse\tTrue\n",
    "False\tFalse\tFalse\n",
    "\n",
    "#The NOT Boolean Operator-The only Boolean operator with one argument is not. It takes one argument and returns the opposite result: False for True and True for False. Here it is in a truth table:\n",
    "\n",
    "A\t   not A\n",
    "True\tFalse\n",
    "False\tTrue\n"
   ]
  },
  {
   "cell_type": "code",
   "execution_count": 27,
   "id": "6abfc745",
   "metadata": {},
   "outputs": [
    {
     "data": {
      "text/plain": [
       "True"
      ]
     },
     "execution_count": 27,
     "metadata": {},
     "output_type": "execute_result"
    }
   ],
   "source": [
    "#4. What are the values of the following expressions?\n",
    "(5 > 4) and (3 == 5)\n",
    "# Ans - False\n",
    "\n",
    "not (5 > 4)\n",
    "# Ans - False\n",
    "\n",
    "(5 > 4) and (3 == 5)\n",
    "# Ans - False\n",
    "\n",
    "not((5 > 4) and (3 == 5))\n",
    "# Ans - True\n",
    "\n",
    "(True and True) and (True == False)\n",
    "# Ans - False\n",
    "\n",
    "(not False) or (not True)\n",
    "# Ans - True"
   ]
  },
  {
   "cell_type": "code",
   "execution_count": null,
   "id": "666af174",
   "metadata": {},
   "outputs": [],
   "source": [
    "# 5. What are the six comparison operators?\n",
    "Operator    Name\t                    Example\n",
    "==          Equal                       x == y\n",
    "!=          Not equal                   x != y\n",
    ">           Greater than                x > y\n",
    "<           Less than                   x < y\n",
    ">=          Greater than or equal to    x >= y\n",
    "<=          Less than or equal to       x <= y"
   ]
  },
  {
   "cell_type": "code",
   "execution_count": 44,
   "id": "214c936a",
   "metadata": {},
   "outputs": [
    {
     "name": "stdout",
     "output_type": "stream",
     "text": [
      "10\n",
      "Equal\n"
     ]
    }
   ],
   "source": [
    "#6. How do you tell the difference between the equal to and assignment operators?\n",
    "#Describe a condition and when you would use one.\n",
    "\n",
    "#Ans - The '=' is called assignment operator and is used to assign the result of the expression on the right side of the \n",
    "#      operator to the variable on the left side. \n",
    "#      The '==' is the so-called equality comparison operator and is used to check whether the two expressions \n",
    "#      on both sides are equal or not\n",
    "a=10\n",
    "print(a) # int 10 is assigned to a-variable\n",
    "\n",
    "if a==10: # equal to operator comparision\n",
    "    print (\"Equal\")\n",
    "else:\n",
    "    print (\"Not Equal\")\n"
   ]
  },
  {
   "cell_type": "code",
   "execution_count": 57,
   "id": "db640bd7",
   "metadata": {},
   "outputs": [
    {
     "ename": "IndentationError",
     "evalue": "expected an indented block (2951250623.py, line 4)",
     "output_type": "error",
     "traceback": [
      "\u001b[1;36m  Input \u001b[1;32mIn [57]\u001b[1;36m\u001b[0m\n\u001b[1;33m    print(\"eggs\")  # Block 1\u001b[0m\n\u001b[1;37m    ^\u001b[0m\n\u001b[1;31mIndentationError\u001b[0m\u001b[1;31m:\u001b[0m expected an indented block\n"
     ]
    }
   ],
   "source": [
    "#7. Identify the three blocks in this code:\n",
    "spam = 0\n",
    "if spam == 10:\n",
    "print(\"eggs\")  # Block 1\n",
    "if spam>5:\n",
    "print(\"bacon\") # Block 2\n",
    "else:\n",
    "print(\"ham\")   # Block 1\n",
    "print(\"spam\")\n",
    "print(\"spam\")    "
   ]
  },
  {
   "cell_type": "code",
   "execution_count": 59,
   "id": "392a8a73",
   "metadata": {},
   "outputs": [
    {
     "name": "stdout",
     "output_type": "stream",
     "text": [
      "Howdy\n"
     ]
    }
   ],
   "source": [
    "#8. Write code that prints Hello if 1 is stored in spam, prints Howdy if 2 is stored in spam, and prints\n",
    "#   Greetings! if anything else is stored in spam.\n",
    "\n",
    "spam = 0\n",
    "if spam == 1:\n",
    "    print(\"Hello\") \n",
    "else:\n",
    "    print(\"Howdy\")   "
   ]
  },
  {
   "cell_type": "code",
   "execution_count": null,
   "id": "43bf7da4",
   "metadata": {},
   "outputs": [],
   "source": [
    "#9. If your programme is stuck in an endless loop, what keys you’ll press?\n",
    "#Ans - CTRL + C"
   ]
  },
  {
   "cell_type": "code",
   "execution_count": null,
   "id": "c82dffa9",
   "metadata": {},
   "outputs": [],
   "source": [
    "#10. How can you tell the difference between break and continue?\n",
    "\n",
    "#Ans - Break statement allows you to exit a loop when a condition is met. \n",
    "#      Continue statement allows you to skip part of a loop when a condition is met."
   ]
  },
  {
   "cell_type": "code",
   "execution_count": null,
   "id": "ce459db3",
   "metadata": {},
   "outputs": [],
   "source": [
    "#11. In a for loop, what is the difference between range(10), range(0, 10), and range(0, 10, 1)?\n",
    "\n",
    "# Ans - range(stop) takes one argument - When the user call range() with one argument, the user will get a series of numbers\n",
    "#       that starts at 0 and includes every whole number up to but not including, the number that the user has provided \n",
    "#       as the stop.\n",
    "\n",
    "#       range(start, stop) takes two arguments - When the user call range() with two arguments, the user gets to decide not \n",
    "#       only where the series of numbers stops but also where it starts, so the user don’t have to start at 0 all the time.\n",
    "#       Users can use range() to generate a series of numbers from X to Y using range(X, Y)\n",
    "\n",
    "#       range(start, stop, step) takes three arguments - When the user call range() with three arguments, the user can \n",
    "#       choose not only where the series of numbers will start and stop but also how big the difference will be between one \n",
    "#       number and the next. If the user doesn’t provide a step, then range() will automatically behave as if the step is 1."
   ]
  },
  {
   "cell_type": "code",
   "execution_count": 72,
   "id": "f8adb436",
   "metadata": {},
   "outputs": [
    {
     "name": "stdout",
     "output_type": "stream",
     "text": [
      "While Loop\n",
      "1\n",
      "2\n",
      "3\n",
      "4\n",
      "5\n",
      "6\n",
      "7\n",
      "8\n",
      "9\n",
      "10\n",
      "\n",
      "\n",
      "For Loop\n",
      "1\n",
      "2\n",
      "3\n",
      "4\n",
      "5\n",
      "6\n",
      "7\n",
      "8\n",
      "9\n",
      "10\n"
     ]
    }
   ],
   "source": [
    "#12 Write a short program that prints the numbers 1 to 10 using a for loop. \n",
    "# Then write an equivalent program that prints the numbers 1 to 10 using a while loop.\n",
    "\n",
    "count = 0\n",
    "print(\"While Loop\")\n",
    "while (count < 10):   \n",
    "    count = count + 1\n",
    "    print(count)\n",
    "    continue\n",
    "\n",
    "    \n",
    "n = 10\n",
    "print('\\n')\n",
    "print(\"For Loop\")\n",
    "for i in range(1, n+1):\n",
    "    print(i)"
   ]
  },
  {
   "cell_type": "code",
   "execution_count": null,
   "id": "b752faf9",
   "metadata": {},
   "outputs": [],
   "source": [
    "#13. If you had a function named bacon() inside a module named spam, how would you call it after importing spam?\n",
    "\n",
    "# Ans - spam.bacon()"
   ]
  }
 ],
 "metadata": {
  "kernelspec": {
   "display_name": "Python 3 (ipykernel)",
   "language": "python",
   "name": "python3"
  },
  "language_info": {
   "codemirror_mode": {
    "name": "ipython",
    "version": 3
   },
   "file_extension": ".py",
   "mimetype": "text/x-python",
   "name": "python",
   "nbconvert_exporter": "python",
   "pygments_lexer": "ipython3",
   "version": "3.9.12"
  }
 },
 "nbformat": 4,
 "nbformat_minor": 5
}
