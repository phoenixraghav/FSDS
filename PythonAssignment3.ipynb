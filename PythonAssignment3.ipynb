{
 "cells": [
  {
   "cell_type": "code",
   "execution_count": null,
   "id": "9e98a884",
   "metadata": {},
   "outputs": [],
   "source": [
    "#1. Why are functions advantageous to have in your programs?\n",
    "\n",
    "#Ans - Functions avoids repetition and makes a high degree of code reusing. \n",
    "#      It provides better modularity for our application"
   ]
  },
  {
   "cell_type": "code",
   "execution_count": null,
   "id": "ee47e5e8",
   "metadata": {},
   "outputs": [],
   "source": [
    "#2. When does the code in a function run: when its specified or when its called?\n",
    "\n",
    "#Ans - The code in a function executes when the function is called, not when the function is defined"
   ]
  },
  {
   "cell_type": "code",
   "execution_count": null,
   "id": "631643fa",
   "metadata": {},
   "outputs": [],
   "source": [
    "#3. What statement creates a function?\n",
    "\n",
    "#Ans - A function is created with the def keyword. The statements in the block of the function must be indented.\n",
    "#      def function():"
   ]
  },
  {
   "cell_type": "code",
   "execution_count": null,
   "id": "3cce419e",
   "metadata": {},
   "outputs": [],
   "source": [
    "#4 - what is the difference between a function and a function call?\n",
    "\n",
    "#Ans - A function is a block of code that does a particular operation and returns a result. \n",
    "#      It usually accepts inputs as parameters and returns a result. The parameters are not mandatory. \n",
    "\n",
    "#      A function call is the code used to pass control to a function"
   ]
  },
  {
   "cell_type": "code",
   "execution_count": null,
   "id": "8ee37e52",
   "metadata": {},
   "outputs": [],
   "source": [
    "#5. How many global scopes are there in a Python program? How many local scopes?\n",
    "\n",
    "#Ans - There's only one global Python scope per program execution. \n",
    "#      This scope remains in existence until the program terminates and all its names are forgotten.\n",
    "\n",
    "#      The local scope or function scope is a Python scope created at function calls. \n",
    "#      Every time you call a function, you’re also creating a new local scope. On the other hand, you can think \n",
    "#      of each def statement and lambda expression as a blueprint for new local scopes. These local scopes will come \n",
    "#      into existence whenever you call the function at hand."
   ]
  },
  {
   "cell_type": "code",
   "execution_count": null,
   "id": "b586f418",
   "metadata": {},
   "outputs": [],
   "source": [
    "#6. What happens to variables in a local scope when the function call returns?\n",
    "\n",
    "#Ans - When the execution of the function terminates (returns), the local variables are destroyed."
   ]
  },
  {
   "cell_type": "code",
   "execution_count": null,
   "id": "e5906313",
   "metadata": {},
   "outputs": [],
   "source": [
    "#7. What is the concept of a return value? Is it possible to have a return value in an expression? \n",
    "\n",
    "#Ans - A return is a value that a function returns to the calling script or function when it completes its task\n",
    "#      If a return statement is used, it must not contain an expression."
   ]
  },
  {
   "cell_type": "code",
   "execution_count": null,
   "id": "d44788cf",
   "metadata": {},
   "outputs": [],
   "source": [
    "#8. If a function does not have a return statement, what is the return value of a call to that function?\n",
    "\n",
    "#Ans - If a function does not use the return statement, then Python will implicitly return a default value for you. \n",
    "#      That default return value will always be None "
   ]
  },
  {
   "cell_type": "code",
   "execution_count": null,
   "id": "a83001d3",
   "metadata": {},
   "outputs": [],
   "source": [
    "#9. How do you make a function variable refer to the global variable?\n",
    "\n",
    "#Ans - By using the global keyword"
   ]
  },
  {
   "cell_type": "code",
   "execution_count": null,
   "id": "f1f010fc",
   "metadata": {},
   "outputs": [],
   "source": [
    "#10. What is the data type of None?\n",
    "\n",
    "#Ans - None is a data type of its own (NoneType)\n",
    "#      The None keyword is used to define a null value, or no value at all."
   ]
  },
  {
   "cell_type": "code",
   "execution_count": null,
   "id": "69926311",
   "metadata": {},
   "outputs": [],
   "source": [
    "#11. What does the sentence import areallyourpetsnamederic do?\n",
    "\n",
    "#Ans - That import statement imports a module named areallyourpetsnamederic "
   ]
  },
  {
   "cell_type": "code",
   "execution_count": null,
   "id": "3dbd31bc",
   "metadata": {},
   "outputs": [],
   "source": [
    "#12. If you had a bacon() feature in a spam module, what would you call it after importing spam?\n",
    "\n",
    "#Ans - spam.bacon()."
   ]
  },
  {
   "cell_type": "code",
   "execution_count": null,
   "id": "2449f2e1",
   "metadata": {},
   "outputs": [],
   "source": [
    "#13. What can you do to save a programme from crashing if it encounters an error?\n",
    "\n",
    "#Ans - wrap the whole code into \"try ... except\""
   ]
  },
  {
   "cell_type": "code",
   "execution_count": null,
   "id": "63b41b3c",
   "metadata": {},
   "outputs": [],
   "source": [
    "#14.What is the purpose of the try clause? What is the purpose of the except clause?\n",
    "\n",
    "#Ans - In the try clause, all statements are executed until an exception is encountered. except is used to catch and handle. "
   ]
  }
 ],
 "metadata": {
  "kernelspec": {
   "display_name": "Python 3 (ipykernel)",
   "language": "python",
   "name": "python3"
  },
  "language_info": {
   "codemirror_mode": {
    "name": "ipython",
    "version": 3
   },
   "file_extension": ".py",
   "mimetype": "text/x-python",
   "name": "python",
   "nbconvert_exporter": "python",
   "pygments_lexer": "ipython3",
   "version": "3.9.12"
  }
 },
 "nbformat": 4,
 "nbformat_minor": 5
}
